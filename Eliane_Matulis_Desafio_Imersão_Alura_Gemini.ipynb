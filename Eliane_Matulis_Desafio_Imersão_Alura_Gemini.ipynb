{
  "nbformat": 4,
  "nbformat_minor": 0,
  "metadata": {
    "colab": {
      "provenance": []
    },
    "kernelspec": {
      "name": "python3",
      "display_name": "Python 3"
    },
    "language_info": {
      "name": "python"
    }
  },
  "cells": [
    {
      "cell_type": "code",
      "execution_count": null,
      "metadata": {
        "colab": {
          "base_uri": "https://localhost:8080/"
        },
        "id": "dal5NCtkzmBM",
        "outputId": "14077384-8ef5-4827-ba6a-af4b0fd5cbdf"
      },
      "outputs": [
        {
          "output_type": "stream",
          "name": "stdout",
          "text": [
            "Requirement already satisfied: google-genai in /usr/local/lib/python3.11/dist-packages (1.15.0)\n",
            "Requirement already satisfied: anyio<5.0.0,>=4.8.0 in /usr/local/lib/python3.11/dist-packages (from google-genai) (4.9.0)\n",
            "Requirement already satisfied: google-auth<3.0.0,>=2.14.1 in /usr/local/lib/python3.11/dist-packages (from google-genai) (2.38.0)\n",
            "Requirement already satisfied: httpx<1.0.0,>=0.28.1 in /usr/local/lib/python3.11/dist-packages (from google-genai) (0.28.1)\n",
            "Requirement already satisfied: pydantic<3.0.0,>=2.0.0 in /usr/local/lib/python3.11/dist-packages (from google-genai) (2.11.4)\n",
            "Requirement already satisfied: requests<3.0.0,>=2.28.1 in /usr/local/lib/python3.11/dist-packages (from google-genai) (2.32.3)\n",
            "Requirement already satisfied: websockets<15.1.0,>=13.0.0 in /usr/local/lib/python3.11/dist-packages (from google-genai) (15.0.1)\n",
            "Requirement already satisfied: typing-extensions<5.0.0,>=4.11.0 in /usr/local/lib/python3.11/dist-packages (from google-genai) (4.13.2)\n",
            "Requirement already satisfied: idna>=2.8 in /usr/local/lib/python3.11/dist-packages (from anyio<5.0.0,>=4.8.0->google-genai) (3.10)\n",
            "Requirement already satisfied: sniffio>=1.1 in /usr/local/lib/python3.11/dist-packages (from anyio<5.0.0,>=4.8.0->google-genai) (1.3.1)\n",
            "Requirement already satisfied: cachetools<6.0,>=2.0.0 in /usr/local/lib/python3.11/dist-packages (from google-auth<3.0.0,>=2.14.1->google-genai) (5.5.2)\n",
            "Requirement already satisfied: pyasn1-modules>=0.2.1 in /usr/local/lib/python3.11/dist-packages (from google-auth<3.0.0,>=2.14.1->google-genai) (0.4.2)\n",
            "Requirement already satisfied: rsa<5,>=3.1.4 in /usr/local/lib/python3.11/dist-packages (from google-auth<3.0.0,>=2.14.1->google-genai) (4.9.1)\n",
            "Requirement already satisfied: certifi in /usr/local/lib/python3.11/dist-packages (from httpx<1.0.0,>=0.28.1->google-genai) (2025.4.26)\n",
            "Requirement already satisfied: httpcore==1.* in /usr/local/lib/python3.11/dist-packages (from httpx<1.0.0,>=0.28.1->google-genai) (1.0.9)\n",
            "Requirement already satisfied: h11>=0.16 in /usr/local/lib/python3.11/dist-packages (from httpcore==1.*->httpx<1.0.0,>=0.28.1->google-genai) (0.16.0)\n",
            "Requirement already satisfied: annotated-types>=0.6.0 in /usr/local/lib/python3.11/dist-packages (from pydantic<3.0.0,>=2.0.0->google-genai) (0.7.0)\n",
            "Requirement already satisfied: pydantic-core==2.33.2 in /usr/local/lib/python3.11/dist-packages (from pydantic<3.0.0,>=2.0.0->google-genai) (2.33.2)\n",
            "Requirement already satisfied: typing-inspection>=0.4.0 in /usr/local/lib/python3.11/dist-packages (from pydantic<3.0.0,>=2.0.0->google-genai) (0.4.0)\n",
            "Requirement already satisfied: charset-normalizer<4,>=2 in /usr/local/lib/python3.11/dist-packages (from requests<3.0.0,>=2.28.1->google-genai) (3.4.2)\n",
            "Requirement already satisfied: urllib3<3,>=1.21.1 in /usr/local/lib/python3.11/dist-packages (from requests<3.0.0,>=2.28.1->google-genai) (2.4.0)\n",
            "Requirement already satisfied: pyasn1<0.7.0,>=0.6.1 in /usr/local/lib/python3.11/dist-packages (from pyasn1-modules>=0.2.1->google-auth<3.0.0,>=2.14.1->google-genai) (0.6.1)\n"
          ]
        }
      ],
      "source": [
        "%pip install google-genai"
      ]
    },
    {
      "cell_type": "code",
      "source": [
        "import os\n",
        "from google.colab import userdata\n",
        "\n",
        "os.environ['GOOGLE_API_KEY'] = userdata.get('GOOGLE_API_KEY')"
      ],
      "metadata": {
        "id": "qYOU7M5q0BCy"
      },
      "execution_count": null,
      "outputs": []
    },
    {
      "cell_type": "code",
      "source": [
        "from google import genai\n",
        "\n",
        "client = genai.Client()"
      ],
      "metadata": {
        "id": "9lQBXhzZ1ep_"
      },
      "execution_count": null,
      "outputs": []
    },
    {
      "cell_type": "code",
      "source": [
        "import os\n",
        "import re\n",
        "from datetime import datetime\n",
        "from google.colab import userdata\n",
        "from google import genai\n",
        "from google.genai import types"
      ],
      "metadata": {
        "id": "Uh7QjeODF5lM"
      },
      "execution_count": null,
      "outputs": []
    },
    {
      "cell_type": "code",
      "source": [
        "for model in client.models.list():\n",
        "  print(model.name)"
      ],
      "metadata": {
        "colab": {
          "base_uri": "https://localhost:8080/"
        },
        "id": "wc7hbDqC10Ka",
        "outputId": "4db20a93-2fef-4c27-cbdd-41e7bc8af87c"
      },
      "execution_count": null,
      "outputs": [
        {
          "output_type": "stream",
          "name": "stdout",
          "text": [
            "models/embedding-gecko-001\n",
            "models/gemini-1.0-pro-vision-latest\n",
            "models/gemini-pro-vision\n",
            "models/gemini-1.5-pro-latest\n",
            "models/gemini-1.5-pro-001\n",
            "models/gemini-1.5-pro-002\n",
            "models/gemini-1.5-pro\n",
            "models/gemini-1.5-flash-latest\n",
            "models/gemini-1.5-flash-001\n",
            "models/gemini-1.5-flash-001-tuning\n",
            "models/gemini-1.5-flash\n",
            "models/gemini-1.5-flash-002\n",
            "models/gemini-1.5-flash-8b\n",
            "models/gemini-1.5-flash-8b-001\n",
            "models/gemini-1.5-flash-8b-latest\n",
            "models/gemini-1.5-flash-8b-exp-0827\n",
            "models/gemini-1.5-flash-8b-exp-0924\n",
            "models/gemini-2.5-pro-exp-03-25\n",
            "models/gemini-2.5-pro-preview-03-25\n",
            "models/gemini-2.5-flash-preview-04-17\n",
            "models/gemini-2.5-flash-preview-04-17-thinking\n",
            "models/gemini-2.5-pro-preview-05-06\n",
            "models/gemini-2.0-flash-exp\n",
            "models/gemini-2.0-flash\n",
            "models/gemini-2.0-flash-001\n",
            "models/gemini-2.0-flash-exp-image-generation\n",
            "models/gemini-2.0-flash-lite-001\n",
            "models/gemini-2.0-flash-lite\n",
            "models/gemini-2.0-flash-preview-image-generation\n",
            "models/gemini-2.0-flash-lite-preview-02-05\n",
            "models/gemini-2.0-flash-lite-preview\n",
            "models/gemini-2.0-pro-exp\n",
            "models/gemini-2.0-pro-exp-02-05\n",
            "models/gemini-exp-1206\n",
            "models/gemini-2.0-flash-thinking-exp-01-21\n",
            "models/gemini-2.0-flash-thinking-exp\n",
            "models/gemini-2.0-flash-thinking-exp-1219\n",
            "models/learnlm-2.0-flash-experimental\n",
            "models/gemma-3-1b-it\n",
            "models/gemma-3-4b-it\n",
            "models/gemma-3-12b-it\n",
            "models/gemma-3-27b-it\n",
            "models/embedding-001\n",
            "models/text-embedding-004\n",
            "models/gemini-embedding-exp-03-07\n",
            "models/gemini-embedding-exp\n",
            "models/aqa\n",
            "models/imagen-3.0-generate-002\n",
            "models/gemini-2.0-flash-live-001\n"
          ]
        }
      ]
    },
    {
      "cell_type": "code",
      "source": [
        "modelo = \"models/gemini-2.0-flash\""
      ],
      "metadata": {
        "id": "hYHebEth295K"
      },
      "execution_count": null,
      "outputs": []
    },
    {
      "cell_type": "code",
      "source": [
        "chat = client.chats.create(model= modelo)\n",
        "\n",
        "resposta = chat.send_message('Olá!! Tudoi bem com você?')\n",
        "\n",
        "resposta.text"
      ],
      "metadata": {
        "colab": {
          "base_uri": "https://localhost:8080/",
          "height": 36
        },
        "id": "1a_-dfQh5qot",
        "outputId": "041b5654-28c6-4230-c46f-97b51d31e59d"
      },
      "execution_count": null,
      "outputs": [
        {
          "output_type": "execute_result",
          "data": {
            "text/plain": [
              "'Olá! Tudo bem por aqui, obrigada por perguntar! 😊 E com você, tudo tranquilo?\\n'"
            ],
            "application/vnd.google.colaboratory.intrinsic+json": {
              "type": "string"
            }
          },
          "metadata": {},
          "execution_count": 63
        }
      ]
    },
    {
      "cell_type": "code",
      "source": [
        "resposta = chat.send_message('Você é um assitente pessoal, por isso, seja sucinto nas suas respostas de forma respeitosa, educada, direta e acolhedora. Olá!! Tudoi bem com você?')\n",
        "\n",
        "resposta.text"
      ],
      "metadata": {
        "colab": {
          "base_uri": "https://localhost:8080/",
          "height": 36
        },
        "id": "y_LH3P8I6DUG",
        "outputId": "202c31b0-0bb0-4a3a-a229-a278f751dc79"
      },
      "execution_count": null,
      "outputs": [
        {
          "output_type": "execute_result",
          "data": {
            "text/plain": [
              "'Olá! Tudo bem, obrigada! E você? 😊\\n'"
            ],
            "application/vnd.google.colaboratory.intrinsic+json": {
              "type": "string"
            }
          },
          "metadata": {},
          "execution_count": 64
        }
      ]
    },
    {
      "cell_type": "code",
      "source": [
        "from google.genai import types\n",
        "\n",
        "chat_config = types.GenerateContentConfig(\n",
        "    system_instruction = 'Você é um assitente pessoal, por isso, seja sucinto nas suas respostas de forma respeitosa, educada, direta e acolhedora.',\n",
        ")\n",
        "\n",
        "chat = client.chats.create(\n",
        "    model = modelo,\n",
        "    config = chat_config,\n",
        ")\n",
        "\n",
        "resposta = chat.send_message('Olá!! Tudo bem com você?')\n",
        "\n",
        "resposta.text\n"
      ],
      "metadata": {
        "colab": {
          "base_uri": "https://localhost:8080/",
          "height": 36
        },
        "id": "rkMxfIaM6j_d",
        "outputId": "7962e788-4639-4083-9356-60069a000e5f"
      },
      "execution_count": null,
      "outputs": [
        {
          "output_type": "execute_result",
          "data": {
            "text/plain": [
              "'Olá! Tudo bem comigo, obrigada por perguntar! 😊 Como posso te ajudar hoje?\\n'"
            ],
            "application/vnd.google.colaboratory.intrinsic+json": {
              "type": "string"
            }
          },
          "metadata": {},
          "execution_count": 65
        }
      ]
    },
    {
      "cell_type": "code",
      "source": [
        "\n",
        "from datetime import datetime\n",
        "\n",
        "def carregar_dados():\n",
        "    \"\"\"\n",
        "    Bloco 1: Carregar Dados\n",
        "\n",
        "    Esta função carrega os dados dos clientes e do cardápio da pizzaria.\n",
        "    Os dados dos clientes incluem nome, endereço, aniversário e histórico de pedidos.\n",
        "    O cardápio inclui os sabores das pizzas, tamanhos e preços, além das bebidas.\n",
        "    Ambos são armazenados em dicionários para fácil acesso.\n",
        "    \"\"\"\n",
        "    dados_clientes = {\n",
        "        \"(11) 98765-4321\": {\n",
        "            \"nome\": \"Ana Silva\",\n",
        "            \"endereco\": \"Rua das Flores, 123\",\n",
        "            \"aniversario\": \"5-Mar\",\n",
        "            \"historico_pedidos\": [\n",
        "                {\"data\": \"Janeiro\", \"pedidos\": [\"Mussarela (M)\", \"Refrigerante Normal\"]},\n",
        "                {\"data\": \"Março\", \"pedidos\": [\"Calabresa (G)\", \"Vinho\"]}\n",
        "            ]\n",
        "        },\n",
        "        \"(11) 99876-5432\": {\n",
        "            \"nome\": \"Bruno Costa\",\n",
        "            \"endereco\": \"Av. Central, 456\",\n",
        "            \"aniversario\": \"10-Jul\",\n",
        "            \"historico_pedidos\": [\n",
        "                {\"data\": \"Fevereiro\", \"pedidos\": [\"Frango com Catupiry (G)\", \"Cerveja Heineken\"]},\n",
        "                {\"data\": \"Abril\", \"pedidos\": [\"Quatro Queijos (M)\", \"Refrigerante Diet\"]}\n",
        "            ]\n",
        "        },\n",
        "        \"(11) 97654-3210\": {\n",
        "            \"nome\": \"Carla Mendes\",\n",
        "            \"endereco\": \"Alameda dos Pinheiros, 789\",\n",
        "            \"aniversario\": \"22-Set\",\n",
        "            \"historico_pedidos\": [\n",
        "                {\"data\": \"Janeiro\", \"pedidos\": [\"Marguerita (B)\", \"Refrigerante Normal\"]},\n",
        "                {\"data\": \"Março\", \"pedidos\": [\"Parma e Rúcula (G)\", \"Vinho\"]}\n",
        "            ]\n",
        "        },\n",
        "        \"(11) 96543-2109\": {\n",
        "            \"nome\": \"Daniel Rocha\",\n",
        "            \"endereco\": \"Rua da Paz, 101\",\n",
        "            \"aniversario\": \"15-Dez\",\n",
        "            \"historico_pedidos\": [\n",
        "                {\"data\": \"Fevereiro\", \"pedidos\": [\"Baiana (M)\", \"Cerveja Original\"]},\n",
        "                {\"data\": \"Abril\", \"pedidos\": [\"Chocolate com Morango (B)\", \"Refrigerante Diet\"]}\n",
        "            ]\n",
        "        },\n",
        "        \"(11) 91098-7654\": {\n",
        "            \"nome\": \"Isabela Santos\",\n",
        "            \"endereco\": \"Rua da Amizade, 666\",\n",
        "            \"aniversario\": \"3-Jun\",\n",
        "            \"historico_pedidos\": [\n",
        "                {\"data\": \"Março\", \"pedidos\": [\"Mussarela (G)\", \"Vinho\"]},\n",
        "                {\"data\": \"Maio\", \"pedidos\": [\"Calabresa (M)\", \"Cerveja Budweiser\"]}\n",
        "            ]\n",
        "        },\n",
        "        \"(11) 90987-6543\": {\n",
        "            \"nome\": \"João Oliveira\",\n",
        "            \"endereco\": \"Condomínio Primavera, 777\",\n",
        "            \"aniversario\": \"29-Abr\",\n",
        "            \"historico_pedidos\": [\n",
        "                {\"data\": \"Fevereiro\", \"pedidos\": [\"Frango com Catupiry (M)\", \"Refrigerante Normal\"]},\n",
        "                {\"data\": \"Abril\", \"pedidos\": [\"Banana com Canela (B)\", \"Cerveja Heineken\"]},\n",
        "                {\"data\": \"Abril\", \"pedidos\": [\"Mussarela (B)\", \"Refrigerante Diet\"]},\n",
        "                {\"data\": \"Maio\", \"pedidos\": [\"Marguerita (M)\", \"Vinho\"]}\n",
        "            ]\n",
        "        },\n",
        "        \"(11) 98888-1234\": {\n",
        "            \"nome\": \"Maria Souza\",\n",
        "            \"endereco\": \"Rua dos Pinheiros, 147\",\n",
        "            \"aniversario\": \"12-Ago\",\n",
        "            \"historico_pedidos\": [\n",
        "                {\"data\": \"Janeiro\", \"pedidos\": [\"Quatro Queijos (G)\", \"Cerveja Original\"]},\n",
        "                {\"data\": \"Março\", \"pedidos\": [\"Parma e Rúcula (M)\", \"Vinho\"]},\n",
        "                {\"data\": \"Maio\", \"pedidos\": [\"Chocolate com Morango (B)\", \"Refrigerante Normal\"]},\n",
        "            ]\n",
        "        },\n",
        "        \"(11) 97777-5678\": {\n",
        "            \"nome\": \"Pedro Almeida\",\n",
        "            \"endereco\": \"Av. Brasil, 258\",\n",
        "            \"aniversario\": \"18-Out\",\n",
        "            \"historico_pedidos\": [\n",
        "                {\"data\": \"Fevereiro\", \"pedidos\": [\"Camarão ao Alho (G)\", \"Cerveja Budweiser\"]},\n",
        "                {\"data\": \"Abril\", \"pedidos\": [\"Caprese (M)\", \"Refrigerante Diet\"]},\n",
        "                {\"data\": \"Junho\", \"pedidos\": [\"Mussarela (G)\"]},\n",
        "            ]\n",
        "        },\n",
        "    }"
      ],
      "metadata": {
        "id": "FyGoqrVPAT5d"
      },
      "execution_count": null,
      "outputs": []
    },
    {
      "cell_type": "code",
      "source": [
        "\n",
        "from datetime import datetime\n",
        "\n",
        "\n",
        "def carregar_sabores():\n",
        "    \"\"\"\n",
        "    Esta função carrega os dados do cardápio da pizzaria.\n",
        "    O cardápio inclui os sabores das pizzas, tamanhos e preços, além das bebidas.\n",
        "    Os dados são armazenados em um dicionário para fácil acesso.\n",
        "    \"\"\"\n",
        "    cardapio = {\n",
        "        \"Tradicionais\": {\n",
        "            \"Mussarela\": {\"Broto\": 25.00, \"Média\": 35.00, \"Grande\": 45.00},\n",
        "            \"Calabresa\": {\"Broto\": 27.00, \"Média\": 37.00, \"Grande\": 47.00},\n",
        "            \"Marguerita\": {\"Broto\": 28.00, \"Média\": 38.00, \"Grande\": 48.00},\n",
        "        },\n",
        "        \"Especiais da Casa\": {\n",
        "            \"Portuguesa\": {\"Broto\": 30.00, \"Média\": 40.00, \"Grande\": 52.00},\n",
        "            \"Frango com Catupiry\": {\"Broto\": 31.00, \"Média\": 42.00, \"Grande\": 54.00},\n",
        "            \"Baiana\": {\"Broto\": 32.00, \"Média\": 43.00, \"Grande\": 55.00},\n",
        "        },\n",
        "        \"Premium\": {\n",
        "            \"Quatro Queijos\": {\"Broto\": 33.00, \"Média\": 45.00, \"Grande\": 58.00},\n",
        "            \"Parma e Rúcula\": {\"Broto\": 36.00, \"Média\": 49.00, \"Grande\": 62.00},\n",
        "            \"Camarão ao Alho\": {\"Broto\": 40.00, \"Média\": 55.00, \"Grande\": 70.00},\n",
        "        },\n",
        "        \"Vegetarianas\": {\n",
        "            \"Caprese\": {\"Broto\": 30.00, \"Média\": 41.00, \"Grande\": 52.00},\n",
        "            \"Verde Mix\": {\"Broto\": 28.00, \"Média\": 39.00, \"Grande\": 50.00},\n",
        "        },\n",
        "        \"Doces\": {\n",
        "            \"Chocolate com Morango\": {\"Broto\": 32.00, \"Média\": 43.00, \"Grande\": 55.00},\n",
        "            \"Romeu e Julieta\": {\"Broto\": 28.00, \"Média\": 39.00, \"Grande\": 50.00},\n",
        "            \"Banana com Canela\": {\"Broto\": 27.00, \"Média\": 37.00, \"Grande\": 48.00},\n",
        "        },\n",
        "\n",
        "    }\n",
        "    return cardapio"
      ],
      "metadata": {
        "id": "Gx9bOksEAk-Q"
      },
      "execution_count": null,
      "outputs": []
    },
    {
      "cell_type": "code",
      "source": [
        "from datetime import datetime\n",
        "\n",
        "def carregar_bebidas():\n",
        "    \"\"\"\n",
        "    Esta função carrega os dados do cardápio de bebidas da pizzaria.\n",
        "    As bebidas incluem seus preços.\n",
        "    Os dados são armazenados em um dicionário para fácil acesso.\n",
        "    \"\"\"\n",
        "    bebidas = {\n",
        "        \"Vinhos\": 40.00,\n",
        "        \"Refrigerantes\": 8.00,\n",
        "        \"Cervejas\": 12.00\n",
        "    }\n",
        "    return bebidas"
      ],
      "metadata": {
        "id": "RvjoaPjCCo-f"
      },
      "execution_count": null,
      "outputs": []
    },
    {
      "cell_type": "code",
      "source": [
        "def formatar_numero_telefone(telefone):\n",
        "    \"\"\"\n",
        "    Bloco 2: Formatar Número de Telefone\n",
        "\n",
        "    Esta função formata o número de telefone do cliente para o padrão (XX) XXXX-XXXX,\n",
        "    caso ele esteja em um formato diferente. Isso garante a consistência dos dados.\n",
        "    \"\"\"\n",
        "    if isinstance(telefone, int):\n",
        "        telefone = str(telefone)\n",
        "    if len(telefone) == 11:\n",
        "        return f\"({telefone[0:2]}) {telefone[3:7]}-{telefone[7:11]}\"\n",
        "    elif len(telefone) == 10:\n",
        "        return f\"({telefone[0:2]}) {telefone[2:6]}-{telefone[6:10]}\"\n",
        "    return telefone  # Retorna o número original se não corresponder aos padrões\n"
      ],
      "metadata": {
        "id": "HmjeemraDPfN"
      },
      "execution_count": null,
      "outputs": []
    },
    {
      "cell_type": "code",
      "source": [
        "def obter_historico_cliente(telefone, dados_clientes):\n",
        "    \"\"\"\n",
        "    Bloco 3: Obter Histórico do Cliente\n",
        "\n",
        "    Esta função recupera o histórico de pedidos do cliente a partir do seu número de telefone.\n",
        "    Ela utiliza a função formatar_numero_telefone para garantir que o telefone esteja no formato correto.\n",
        "    Se o cliente for encontrado nos dados_clientes, retorna o histórico de pedidos; caso contrário, retorna None.\n",
        "    \"\"\"\n",
        "    telefone = formatar_numero_telefone(telefone)\n",
        "    if telefone in dados_clientes:\n",
        "        return dados_clientes[telefone][\"historico_pedidos\"]\n",
        "    return None\n"
      ],
      "metadata": {
        "id": "varDWsniDSus"
      },
      "execution_count": null,
      "outputs": []
    },
    {
      "cell_type": "code",
      "source": [
        "def obter_nome_cliente(telefone, dados_clientes):\n",
        "    \"\"\"\n",
        "    Bloco 4: Obter Nome do Cliente\n",
        "\n",
        "    Esta função obtém o nome do cliente a partir do seu número de telefone.\n",
        "    Assim como a função obter_historico_cliente, ela usa formatar_numero_telefone para formatar o telefone.\n",
        "    Retorna o nome do cliente se encontrado, ou None caso contrário.\n",
        "    \"\"\"\n",
        "    telefone = formatar_numero_telefone(telefone)\n",
        "    if telefone in dados_clientes:\n",
        "        return dados_clientes[telefone][\"nome\"]\n",
        "    return None\n"
      ],
      "metadata": {
        "id": "S4S2IAT0Dz9Y"
      },
      "execution_count": null,
      "outputs": []
    },
    {
      "cell_type": "code",
      "source": [
        "def obter_aniversario_cliente(telefone, dados_clientes):\n",
        "    \"\"\"\n",
        "    Bloco 5: Obter Aniversário do Cliente\n",
        "\n",
        "    Esta função obtém a data de aniversário do cliente a partir do seu número de telefone.\n",
        "    Utiliza formatar_numero_telefone para garantir a formatação correta do telefone.\n",
        "    Retorna a data de aniversário se o cliente for encontrado, ou None caso contrário.\n",
        "    \"\"\"\n",
        "    telefone = formatar_numero_telefone(telefone)\n",
        "    if telefone in dados_clientes:\n",
        "        return dados_clientes[telefone][\"aniversario\"]\n",
        "    return None"
      ],
      "metadata": {
        "id": "gntD8OGhEq2L"
      },
      "execution_count": null,
      "outputs": []
    },
    {
      "cell_type": "markdown",
      "source": [],
      "metadata": {
        "id": "0fVesMO-Eo9R"
      }
    },
    {
      "cell_type": "code",
      "source": [
        "def verificar_aniversario(data_aniversario):\n",
        "    \"\"\"\n",
        "    Bloco 6: Verificar Aniversário\n",
        "\n",
        "    Esta função verifica se a data atual é o aniversário do cliente.\n",
        "    Compara o dia e mês da data de aniversário do cliente com o dia e mês atuais.\n",
        "    Retorna True se for aniversário do cliente, e False caso contrário.\n",
        "    \"\"\"\n",
        "    if data_aniversario is None:\n",
        "        return False\n",
        "    data_atual = datetime.now()\n",
        "    dia_mes_atual = data_atual.strftime(\"%d-%b\")\n",
        "    return dia_mes_atual == data_aniversario"
      ],
      "metadata": {
        "id": "Mf4wX2peEyxH"
      },
      "execution_count": null,
      "outputs": []
    },
    {
      "cell_type": "markdown",
      "source": [],
      "metadata": {
        "id": "QGGiiJTuEo5z"
      }
    },
    {
      "cell_type": "code",
      "source": [
        "def recomendar_pizza(telefone, dados_clientes):\n",
        "    \"\"\"\n",
        "    Bloco 7: Recomendar Pizza\n",
        "\n",
        "    Esta função recomenda uma pizza com base no histórico de pedidos do cliente.\n",
        "    Ela obtém o histórico do cliente, pega o último pedido e filtra os itens que são pizzas.\n",
        "    A primeira pizza pedida no último pedido é considerada a preferida e é recomendada.\n",
        "    Retorna o nome da pizza recomendada, ou None se não houver histórico ou nenhuma pizza no pedido.\n",
        "    \"\"\"\n",
        "    historico = obter_historico_cliente(telefone, dados_clientes)\n",
        "    if historico:\n",
        "        # Pega o último pedido\n",
        "        ultimo_pedido = historico[-1][\"pedidos\"]\n",
        "        # Filtra os itens que são pizzas (remove bebidas)\n",
        "        pizzas_pedidas = [item for item in ultimo_pedido if \"Pizza\" in item] # Alterado para incluir a palavra Pizza\n",
        "        if pizzas_pedidas:\n",
        "            # Assume que a primeira pizza pedida é a preferida\n",
        "            pizza_preferida = pizzas_pedidas[0].split(\" \")[0]  # Pega apenas o nome da pizza\n",
        "            return pizza_preferida\n",
        "    return None\n"
      ],
      "metadata": {
        "id": "tA2od5hgE-Yf"
      },
      "execution_count": null,
      "outputs": []
    },
    {
      "cell_type": "code",
      "source": [
        "def calcular_total_pedido(pedido, cardapio):\n",
        "    \"\"\"\n",
        "    Bloco 8: Calcular Total do Pedido\n",
        "\n",
        "    Esta função calcula o valor total do pedido.\n",
        "    Itera sobre os itens do pedido, verifica se são pizzas ou bebidas,\n",
        "    e busca o preço correspondente no cardápio.\n",
        "    Para pizzas, extrai o tamanho (Broto, Média, Grande) para obter o preço correto.\n",
        "    Retorna o valor total do pedido.\n",
        "    \"\"\"\n",
        "    total = 0\n",
        "    for item in pedido:\n",
        "        # Verifica se o item é uma pizza\n",
        "        if \"Pizza\" in item:\n",
        "            # Separa o nome da pizza e o tamanho\n",
        "            nome_pizza, tamanho = item.split(\" (\")\n",
        "            tamanho = tamanho[0] # Pega só a letra do tamanho\n",
        "            for categoria, pizzas in cardapio.items():\n",
        "                if nome_pizza in pizzas:\n",
        "                    total += pizzas[nome_pizza][tamanho]\n",
        "                    break\n",
        "        # Verifica se o item é uma bebida\n",
        "        elif item in cardapio[\"Bebidas\"]:\n",
        "            total += cardapio[\"Bebidas\"][item]\n",
        "    return total\n"
      ],
      "metadata": {
        "id": "e36ZsFwaFD_Q"
      },
      "execution_count": null,
      "outputs": []
    },
    {
      "cell_type": "code",
      "source": [
        "def aplicar_desconto_apartamento(endereco, total):\n",
        "    \"\"\"\n",
        "    Bloco 9: Aplicar Desconto para Apartamento\n",
        "\n",
        "    Esta função aplica um desconto de R$2,00 ao total do pedido se o cliente mora em apartamento ou condomínio.\n",
        "    Verifica se a string \"Apartamento\" ou \"Condomínio\" está presente no endereço do cliente.\n",
        "    Retorna o valor total do pedido com o desconto aplicado, se aplicável.\n",
        "    \"\"\"\n",
        "    if \"Apartamento\" in endereco or \"Condomínio\" in endereco: # Alterado para incluir \"Condomínio\"\n",
        "        total -= 2.00\n",
        "    return total"
      ],
      "metadata": {
        "id": "ZiEe9AbGFLAd"
      },
      "execution_count": null,
      "outputs": []
    },
    {
      "cell_type": "markdown",
      "source": [
        "import json\n",
        "from datetime import datetime\n",
        "\n",
        "def carregar_dados(arquivo_clientes=\"clientes.json\", arquivo_cardapio=\"cardapio.json\"):\n",
        "    \"\"\"\n",
        "    Carrega os dados dos clientes e do cardápio a partir de arquivos JSON.\n",
        "\n",
        "    Args:\n",
        "        arquivo_clientes (str, opcional): O nome do arquivo JSON contendo os dados dos clientes.\n",
        "            Padrão é \"clientes.json\".\n",
        "        arquivo_cardapio (str, opcional): O nome do arquivo JSON contendo o cardápio.\n",
        "            Padrão é \"cardapio.json\".\n",
        "\n",
        "    Returns:\n",
        "        tuple: Um tuple contendo dois dicionários:\n",
        "            - O primeiro dicionário contém os dados dos clientes, onde a chave é o telefone do cliente\n",
        "              e o valor é um dicionário com o nome, endereço e histórico de pedidos do cliente.\n",
        "            - O segundo dicionário contém o cardápio, organizado por categoria (Pizza, Bebidas, etc.).\n",
        "              Os preços das pizzas são armazenados por tamanho (Broto, Média, Grande).\n",
        "\n",
        "    Raises:\n",
        "        FileNotFoundError: Se algum dos arquivos JSON não for encontrado.\n",
        "        json.JSONDecodeError: Se algum dos arquivos JSON estiver mal formatado.\n",
        "    \"\"\"\n",
        "    try:\n",
        "        with open(arquivo_clientes, 'r') as f:\n",
        "            dados_clientes = json.load(f)\n",
        "    except FileNotFoundError:\n",
        "        raise FileNotFoundError(f\"Arquivo de clientes '{arquivo_clientes}' não encontrado.\")\n",
        "    except json.JSONDecodeError:\n",
        "        raise json.JSONDecodeError(f\"Erro ao decodificar JSON do arquivo de clientes '{arquivo_clientes}'. Verifique a formatação do arquivo.\")\n",
        "\n",
        "    try:\n",
        "        with open(arquivo_cardapio, 'r') as f:\n",
        "            cardapio = json.load(f)\n",
        "    except FileNotFoundError:\n",
        "        raise FileNotFoundError(f\"Arquivo de cardápio '{arquivo_cardapio}' não encontrado.\")\n",
        "    except json.JSONDecodeError:\n",
        "        raise json.JSONDecodeError(f\"Erro ao decodificar JSON do arquivo de cardápio '{arquivo_cardapio}'. Verifique a formatação do arquivo.\")\n",
        "\n",
        "    return dados_clientes, cardapio\n",
        "\n",
        "def obter_nome_cliente(telefone, dados_clientes):\n",
        "    \"\"\"\n",
        "    Obtém o nome do cliente a partir do dicionário de dados dos clientes usando o telefone.\n",
        "\n",
        "    Args:\n",
        "        telefone (str): O número de telefone do cliente.\n",
        "        dados_clientes (dict): Um dicionário contendo os dados dos clientes.\n",
        "\n",
        "    Returns:\n",
        "        str: O nome do cliente, ou None se o telefone não for encontrado nos dados dos clientes.\n",
        "    \"\"\"\n",
        "    if telefone in dados_clientes:\n",
        "        return dados_clientes[telefone]['nome']\n",
        "    return None\n",
        "\n",
        "def obter_aniversario_cliente(telefone, dados_clientes):\n",
        "    \"\"\"\n",
        "    Obtém a data de aniversário do cliente a partir do dicionário de dados dos clientes.\n",
        "\n",
        "    Args:\n",
        "        telefone (str): O número de telefone do cliente.\n",
        "        dados_clientes (dict): Um dicionário contendo os dados dos clientes.\n",
        "\n",
        "    Returns:\n",
        "        str: A data de aniversário do cliente no formato 'DD/MM/AAAA', ou None se o telefone não\n",
        "             for encontrado nos dados dos clientes ou se a data de aniversário não estiver disponível.\n",
        "    \"\"\"\n",
        "    if telefone in dados_clientes:\n",
        "        return dados_clientes[telefone].get('data_aniversario')  # Usando .get() para evitar KeyError\n",
        "    return None\n",
        "\n",
        "\n",
        "def verificar_aniversario(data_aniversario):\n",
        "    \"\"\"\n",
        "    Verifica se a data atual é o aniversário do cliente.\n",
        "\n",
        "    Args:\n",
        "        data_aniversario (str): A data de aniversário do cliente no formato 'DD/MM/AAAA'.\n",
        "\n",
        "    Returns:\n",
        "        bool: True se for aniversário do cliente, False caso contrário.  Retorna False se a data\n",
        "              de aniversário for None.\n",
        "    \"\"\"\n",
        "    if not data_aniversario:\n",
        "        return False\n",
        "    hoje = datetime.now().strftime('%d/%m')\n",
        "    nascimento = datetime.strptime(data_aniversario, '%d/%m/%Y').strftime('%d/%m')\n",
        "    return hoje == nascimento\n",
        "def recomendar_pizza(telefone, dados_clientes):\n",
        "    \"\"\"\n",
        "    Recomenda uma pizza com base no histórico de pedidos do cliente.\n",
        "\n",
        "    Args:\n",
        "        telefone (str): O número de telefone do cliente.\n",
        "        dados_clientes (dict): Um dicionário contendo os dados dos clientes.\n",
        "\n",
        "    Returns:\n",
        "        str: O nome da pizza mais pedida pelo cliente, ou None se o cliente não tiver histórico\n",
        "             de pedidos ou se houver um erro ao determinar a pizza mais frequente.\n",
        "    \"\"\"\n",
        "    if telefone in dados_clientes and 'historico_pedidos' in dados_clientes[telefone]:\n",
        "        historico = dados_clientes[telefone]['historico_pedidos']\n",
        "        if not historico:\n",
        "            return None  # Retorna None se o histórico estiver vazio\n",
        "        # Contar a frequência de cada pizza no histórico\n",
        "        frequencia_pizza = {}\n",
        "        for pedido in historico:\n",
        "            # Assumindo que o nome da pizza é o primeiro item antes do tamanho\n",
        "            nome_pizza = pedido.split(' (')[0]  # Pega só o nome da pizza antes do '('\n",
        "            frequencia_pizza[nome_pizza] = frequencia_pizza.get(nome_pizza, 0) + 1\n",
        "\n",
        "        # Encontrar a pizza mais frequente\n",
        "        pizza_mais_pedida = max(frequencia_pizza, key=frequencia_pizza.get, default=None)\n",
        "        return pizza_mais_pedida\n",
        "    return None  # Retorna None se o telefone não estiver nos dados ou não tiver histórico\n",
        "\n",
        "def calcular_total_pedido(pedido, cardapio):\n",
        "    \"\"\"\n",
        "    Calcula o total do pedido com base nos itens pedidos e nos preços do cardápio.\n",
        "\n",
        "    Args:\n",
        "        pedido (list): Uma lista de strings, onde cada string representa um item do pedido\n",
        "            no formato \"Nome da Pizza (Tamanho)\" ou \"Nome da Bebida\".\n",
        "        cardapio (dict): Um dicionário contendo o cardápio da pizzaria.\n",
        "\n",
        "    Returns:\n",
        "        float: O total do pedido. Retorna 0.0 se o pedido estiver vazio ou se ocorrer algum\n",
        "               erro ao encontrar o preço de um item.\n",
        "    \"\"\"\n",
        "    total = 0.0\n",
        "    if not pedido:\n",
        "        return total  # Retorna 0.0 para pedido vazio\n",
        "\n",
        "    for item in pedido:\n",
        "        try:\n",
        "            if \" (\" in item:  # É uma pizza\n",
        "                nome_pizza, tamanho = item.split(\" (\")\n",
        "                tamanho = tamanho.strip(\")\")  # Remove o parêntese do tamanho\n",
        "                if nome_pizza in cardapio and tamanho in cardapio[\"Pizza\"]:\n",
        "                    total += cardapio[\"Pizza\"][nome_pizza][tamanho]\n",
        "                else:\n",
        "                    print(f\"Erro: Pizza '{nome_pizza}' ou tamanho '{tamanho}' não encontrados no cardápio.\")\n",
        "                    # Aqui, você poderia lançar uma exceção ou tratar o erro de outra forma\n",
        "            elif item in cardapio[\"Bebidas\"]:  # É uma bebida\n",
        "                total += cardapio[\"Bebidas\"][item]\n",
        "            else:\n",
        "                print(f\"Erro: Item '{item}' não encontrado no cardápio.\")\n",
        "                # Aqui, você poderia lançar uma exceção ou tratar o erro de outra forma\n",
        "        except KeyError:\n",
        "            print(f\"Erro ao encontrar preço para o item: {item}. Item ignorado.\")\n",
        "            # Aqui, logar o erro seria mais apropriado em produção\n",
        "    return total\n",
        "\n",
        "def aplicar_desconto_apartamento(endereco, total):\n",
        "    \"\"\"\n",
        "    Aplica um desconto de R$2.00 ao total do pedido se o cliente mora em apartamento.\n",
        "\n",
        "    Args:\n",
        "        endereco (str): O endereço do cliente.\n",
        "        total (float): O total do pedido.\n",
        "\n",
        "    Returns:\n",
        "        float: O total do pedido com o desconto aplicado, se aplicável.\n",
        "    \"\"\"\n",
        "    if \"apartamento\" in endereco.lower() or \"apto\" in endereco.lower():\n",
        "        return total - 2.00\n",
        "    return total\n",
        "\n",
        "def chatbox_pizzaria():\n",
        "    \"\"\"\n",
        "    Função principal que simula o chatbox de uma pizzaria.\n",
        "    \"\"\"\n",
        "    try:\n",
        "        dados_clientes, cardapio = carregar_dados()\n",
        "    except (FileNotFoundError, json.JSONDecodeError) as e:\n",
        "        print(f\"Erro ao carregar dados: {e}\")\n",
        "        return  # Encerra a função se houver erro ao carregar os dados\n",
        "\n",
        "    print(\"Bem-vindo à Arrasa Pizza! 🍕😋 É um prazer atender você.\")\n",
        "\n",
        "    telefone_cliente = input(\"Para começarmos, poderia me informar seu telefone, por favor? \")\n",
        "    nome_cliente = obter_nome_cliente(telefone_cliente, dados_clientes)\n",
        "    data_aniversario = obter_aniversario_cliente(telefone_cliente, dados_clientes)\n",
        "\n",
        "    if nome_cliente:\n",
        "        print(f\"Olá, {nome_cliente}! Verifiquei em nosso sistema e encontrei seu cadastro.\")\n",
        "        if verificar_aniversario(data_aniversario):\n",
        "            print(\"Parabéns! 🎉 Como é seu aniversário, você ganhou uma pizza e um refrigerante por nossa conta!\")\n",
        "            # Lógica para adicionar pizza e refrigerante de graça ao pedido (implementar)\n",
        "            # Isso exigiria modificar a lógica de pedido e talvez adicionar itens ao cardápio\n",
        "            # como \"Pizza de Aniversario\" e \"Refrigerante de Aniversario\" com preço 0\n",
        "            pedido = [\"Pizza de Aniversario (Grande)\", \"Refrigerante de Aniversario\"] #Exemplo de como adicionar ao pedido.\n",
        "        else:\n",
        "            pizza_recomendada = recomendar_pizza(telefone_cliente, dados_clientes)\n",
        "            if pizza_recomendada:\n",
        "                print(f\"Vi que você gosta de {pizza_recomendada}! Que tal pedir ela novamente hoje?\")\n",
        "    else:\n",
        "        nome_cliente = input(\"Qual o seu nome? \")\n",
        "        endereco_cliente = input(\"Qual o seu endereço de entrega? \")\n",
        "        dados_clientes[telefone_cliente] = {'nome': nome_cliente, 'endereco': endereco_cliente, 'historico_pedidos': []} #Adicionado o historico_pedidos\n",
        "        print(\"Ok, este é o seu primeiro pedido conosco. Anotei seus dados para os próximos pedidos.\")\n",
        "    \n",
        "    print(\"Nosso cardápio de pizzas:\")\n",
        "    for categoria, pizzas in cardapio.items():\n",
        "        if categoria != \"Bebidas\":\n",
        "            print(f\"\\n{categoria}:\")\n",
        "            for nome, precos in pizzas.items():\n",
        "                print(f\"  {nome}: Broto: R$ {precos['Broto']:.2f} | Média: R$ {precos['Média']:.2f} | Grande: R$ {precos['Grande']:.2f}\")\n",
        "\n",
        "    print(\"\\nBebidas:\")\n",
        "    for bebida, preco in cardapio[\"Bebidas\"].items():\n",
        "        print(f\"  {bebida}: R$ {preco:.2f}\")\n",
        "\n",
        "    pedido = []\n",
        "    while True:\n",
        "        item_pedido = input(\"Qual pizza e tamanho você gostaria de pedir? (Ex: Mussarela (M), ou digite 'fim' para encerrar o pedido) \")\n",
        "        if item_pedido.lower() == \"fim\":\n",
        "            break\n",
        "        pedido.append(item_pedido)\n",
        "\n",
        "    while True:\n",
        "        bebida_pedido = input(\"Gostaria de adicionar alguma bebida ao seu pedido? (Ex: Refrigerantes, ou digite 'não' para continuar) \")\n",
        "        if bebida_pedido.lower() == \"não\":\n",
        "            break\n",
        "        if bebida_pedido in cardapio[\"Bebidas\"]:\n",
        "            pedido.append(bebida_pedido)\n",
        "        else:\n",
        "            print(\"Desculpe, não temos essa bebida. Por favor, escolha entre as opções do cardápio.\")\n",
        "    \n",
        "    total_pedido = calcular_total_pedido(pedido, cardapio)\n",
        "    total_pedido = aplicar_desconto_apartamento(dados_clientes[telefone_cliente]['endereco'], total_pedido)\n",
        "\n",
        "    print(\"\\nResumo do Pedido:\")\n",
        "    for item in pedido:\n",
        "        print(f\"  {item}\")\n",
        "    print(f\"Total do Pedido: R$ {total_pedido:.2f}\")\n",
        "\n",
        "    print(\"\\nFormas de Pagamento:\")\n",
        "    print(\"  Aceitamos todos os cartões de crédito e débito, vales refeição e pagamento via PIX.\")\n",
        "    print(\"  Chave PIX: (11) 98765-4321\")\n",
        "\n",
        "    print(\"\\nRegras da Casa:\")\n",
        "    print(\"  1. A cada 10 pedidos de pizza, você ganha a sua pizza preferida e um refrigerante no próximo pedido.\")\n",
        "    print(\"  2. No mês do seu aniversário, você ganha uma pizza + refrigerante de graça.\")\n",
        "    print(\"  3. Clientes que moram em apartamentos e descem para aguardar na portaria recebem um bônus de R$2,00 para um futuro pedido.\")\n",
        "    \n",
        "    # Atualiza o histórico de pedidos do cliente\n",
        "    if telefone_cliente in dados_clientes:\n",
        "        dados_clientes[telefone_cliente]['historico_pedidos'].extend(pedido) # type: ignore\n",
        "        # Salva os dados atualizados no arquivo\n",
        "        try:\n",
        "            with open(\"clientes.json\", \"w\") as f:\n",
        "                json.dump(dados_clientes, f, indent=4)\n",
        "        except Exception as e:\n",
        "            print(f\"Erro ao salvar dados do cliente: {e}\")\n",
        "\n",
        "    print(\"\\nObrigado pelo seu pedido! A Arrasa Pizza agradece a sua preferência. 😄\")\n",
        "\n",
        "if __name__ == \"__main__\":\n",
        "    chatbox_pizzaria()\n"
      ],
      "metadata": {
        "id": "OBOU4fVyI9l-"
      }
    }
  ]
}